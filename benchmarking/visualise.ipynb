{
 "cells": [
  {
   "cell_type": "markdown",
   "metadata": {},
   "source": [
    "# Visualization of AMSIMP & Benchmarking Experiments"
   ]
  },
  {
   "cell_type": "markdown",
   "metadata": {},
   "source": [
    "This notebook will generate scatter plots of various profiles of the Earth's Troposphere and Stratosphere using AMSIMP. An example of such a profile would be plotting a ***Atmospheric Pressure - Altitude*** scatter plot based on the Barometric Pressure Formula. This notebook will also output the run time of AMSIMP using different levels of simulation detail. "
   ]
  },
  {
   "cell_type": "code",
   "execution_count": 1,
   "metadata": {
    "scrolled": true
   },
   "outputs": [],
   "source": [
    "#Import dependencies.\n",
    "import os\n",
    "#Allows Jupyter Notebook to access the AMSIMP module on GitHub.\n",
    "os.chdir(os.path.dirname(os.getcwd()))\n",
    "#Import the rest of the dependencies.\n",
    "import matplotlib.pyplot as plt\n",
    "import amsimp"
   ]
  },
  {
   "cell_type": "code",
   "execution_count": null,
   "metadata": {},
   "outputs": [],
   "source": [
    "#Defines the level of detail for the notebook\n",
    "detail = amsimp.Dynamics(4)"
   ]
  },
  {
   "cell_type": "markdown",
   "metadata": {},
   "source": [
    "## Scatter Plots Generated from AMSIMP "
   ]
  },
  {
   "cell_type": "markdown",
   "metadata": {},
   "source": [
    "> Important Note: The formula for Coriolis force results in a Coriolis parameter of identically zero at the equator, and therefore, does not hold up. This, by extension, affects the zonal and meridional velocity calculations."
   ]
  },
  {
   "cell_type": "markdown",
   "metadata": {},
   "source": [
    "### Latitude - Vector of Zonal and Meridional Velocities (At Sea Level)"
   ]
  },
  {
   "cell_type": "code",
   "execution_count": null,
   "metadata": {},
   "outputs": [],
   "source": [
    "plt.scatter(detail.latitude_lines(), detail.vector_creation()[0])\n",
    "plt.xlabel('Latitude (Degrees from the Equator)')\n",
    "plt.ylabel('Zonal Velocity')\n",
    "plt.ylim(-250, 250)"
   ]
  },
  {
   "cell_type": "markdown",
   "metadata": {},
   "source": [
    "### Latitude - Zonal Wind Scatter Plot (At Sea Level)"
   ]
  },
  {
   "cell_type": "code",
   "execution_count": null,
   "metadata": {},
   "outputs": [],
   "source": [
    "plt.scatter(detail.latitude_lines(), detail.zonal_wind()[0])\n",
    "plt.xlabel('Latitude (Degrees from the Equator)')\n",
    "plt.ylabel('Zonal Wind')\n",
    "plt.ylim(-250, 250)"
   ]
  },
  {
   "cell_type": "markdown",
   "metadata": {},
   "source": [
    "### Latitude - Meridional Wind Scatter Plot (At Sea Level)"
   ]
  },
  {
   "cell_type": "code",
   "execution_count": null,
   "metadata": {},
   "outputs": [],
   "source": [
    "plt.scatter(detail.latitude_lines(), detail.zonal_wind()[0])\n",
    "plt.xlabel('Latitude (Degrees from the Equator)')\n",
    "plt.ylabel('Meridional Wind')\n",
    "plt.ylim(-250, 250)"
   ]
  },
  {
   "cell_type": "markdown",
   "metadata": {},
   "source": [
    "### Latitude - Zonal Velocity Scatter Plot (At Sea Level)"
   ]
  },
  {
   "cell_type": "code",
   "execution_count": null,
   "metadata": {},
   "outputs": [],
   "source": [
    "plt.scatter(detail.latitude_lines(), detail.zonal_velocity()[0])\n",
    "plt.xlabel('Latitude (Degrees from the Equator)')\n",
    "plt.ylabel('Zonal Velocity')\n",
    "plt.ylim(-250, 250)"
   ]
  },
  {
   "cell_type": "markdown",
   "metadata": {},
   "source": [
    "### Latitude - Meridional Velocity Scatter Plot (At Sea Level)"
   ]
  },
  {
   "cell_type": "code",
   "execution_count": null,
   "metadata": {},
   "outputs": [],
   "source": [
    "plt.scatter(detail.latitude_lines(), detail.meridional_velocity()[0])\n",
    "plt.xlabel('Latitude (Degrees from the Equator)')\n",
    "plt.ylabel('Meridional Velocity')\n",
    "plt.ylim(-250, 250)"
   ]
  },
  {
   "cell_type": "markdown",
   "metadata": {},
   "source": [
    "### Vertical Velocity - Altitude Scatter Plot"
   ]
  },
  {
   "cell_type": "code",
   "execution_count": null,
   "metadata": {
    "scrolled": true
   },
   "outputs": [],
   "source": [
    "plt.scatter(detail.vertical_velocity(), detail.altitude_level())\n",
    "plt.xlabel('Vertical Velocity (Pa / s)')\n",
    "plt.ylabel('Height Above Sea Level (m)')"
   ]
  },
  {
   "cell_type": "markdown",
   "metadata": {},
   "source": [
    "### Temperature - Altitude (Standard Atmosphere Calculation)"
   ]
  },
  {
   "cell_type": "code",
   "execution_count": null,
   "metadata": {},
   "outputs": [],
   "source": [
    "plt.scatter(detail.temperature(), detail.altitude_level())\n",
    "plt.xlabel('Temperature (K)')\n",
    "plt.ylabel('Height Above Sea Level (m)')"
   ]
  },
  {
   "cell_type": "markdown",
   "metadata": {},
   "source": [
    "### Altitude - Atmospheric Pressure Scatter Plot (Barometric Formula)"
   ]
  },
  {
   "cell_type": "code",
   "execution_count": null,
   "metadata": {
    "scrolled": false
   },
   "outputs": [],
   "source": [
    "plt.scatter(detail.pressure(), detail.altitude_level())\n",
    "plt.xlabel('Atmospheric Pressure (Pa)')\n",
    "plt.ylabel('Height Above Sea Level (m)')"
   ]
  },
  {
   "cell_type": "markdown",
   "metadata": {},
   "source": [
    "### Latitude - Coriolis Force Scatter Plot"
   ]
  },
  {
   "cell_type": "code",
   "execution_count": null,
   "metadata": {
    "scrolled": true
   },
   "outputs": [],
   "source": [
    "plt.scatter(detail.latitude_lines(), detail.coriolis_force())\n",
    "plt.xlabel('Latitude (Degrees from the Equator)')\n",
    "plt.ylabel('Coriolis Force (Radians / s)')"
   ]
  },
  {
   "cell_type": "markdown",
   "metadata": {},
   "source": [
    "### Geopotential - Altitude Scatter Plot"
   ]
  },
  {
   "cell_type": "code",
   "execution_count": null,
   "metadata": {
    "scrolled": true
   },
   "outputs": [],
   "source": [
    "plt.scatter(detail.geopotential(), detail.altitude_level())\n",
    "plt.xlabel('Geopotential (J / kg)')\n",
    "plt.ylabel('Height Above Sea Level (m)')"
   ]
  },
  {
   "cell_type": "markdown",
   "metadata": {},
   "source": [
    "### Latitude - Absolute Vorticity Scatter Plot"
   ]
  },
  {
   "cell_type": "code",
   "execution_count": null,
   "metadata": {
    "scrolled": true
   },
   "outputs": [],
   "source": [
    "plt.scatter(detail.latitude_lines(), detail.absolute_vorticity())\n",
    "plt.xlabel('Latitude (Degrees from the Equator)')\n",
    "plt.ylabel('Absolute Vorticity (Radians / s)')"
   ]
  },
  {
   "cell_type": "markdown",
   "metadata": {},
   "source": [
    "### Potential Temperature - Altitude Scatter PLot"
   ]
  },
  {
   "cell_type": "code",
   "execution_count": null,
   "metadata": {
    "scrolled": true
   },
   "outputs": [],
   "source": [
    "plt.scatter(detail.potential_temperature(), detail.altitude_level())\n",
    "plt.xlabel('Potential Temperature (K)')\n",
    "plt.ylabel('Height Above Sea Level (m)')"
   ]
  }
 ],
 "metadata": {
  "kernelspec": {
   "display_name": "Python 3",
   "language": "python",
   "name": "python3"
  },
  "language_info": {
   "codemirror_mode": {
    "name": "ipython",
    "version": 3
   },
   "file_extension": ".py",
   "mimetype": "text/x-python",
   "name": "python",
   "nbconvert_exporter": "python",
   "pygments_lexer": "ipython3",
   "version": "3.7.1"
  }
 },
 "nbformat": 4,
 "nbformat_minor": 2
}
